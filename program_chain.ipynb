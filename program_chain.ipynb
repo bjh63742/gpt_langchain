{
 "cells": [
  {
   "cell_type": "code",
   "execution_count": 11,
   "metadata": {},
   "outputs": [],
   "source": [
    "from langchain.chat_models import ChatOpenAI\n",
    "from langchain.prompts import ChatPromptTemplate\n",
    "from langchain.callbacks import StreamingStdOutCallbackHandler\n",
    "\n",
    "chat = ChatOpenAI(\n",
    "    model_name=\"gpt-3.5-turbo\",\n",
    "    streaming=True,\n",
    "    temperature=0.1,\n",
    "    callbacks=[StreamingStdOutCallbackHandler()],\n",
    ")"
   ]
  },
  {
   "cell_type": "code",
   "execution_count": 12,
   "metadata": {},
   "outputs": [],
   "source": [
    "poet_template = ChatPromptTemplate.from_messages(\n",
    "    [\n",
    "        (\"system\", \"너는 시인이야. 그리고 너는 프로그래밍에 관한 시를 쓸 수 있어.\"),\n",
    "        (\"human\", \"{language} 관한 시를 써줘\"),\n",
    "    ]\n",
    ")\n",
    "\n",
    "poet_chain = poet_template | chat"
   ]
  },
  {
   "cell_type": "code",
   "execution_count": 13,
   "metadata": {},
   "outputs": [],
   "source": [
    "explain_template = ChatPromptTemplate.from_messages(\n",
    "    [\n",
    "        (\"system\", \"너는 프로그래밍에 관한 시를 입력 받으면 그것을 보여주고 설명해줘야해\"),\n",
    "        (\"human\", \"{concept} 에 대해 설명해줘\",)\n",
    "    ]\n",
    ")\n",
    "\n",
    "explain_chain = explain_template | chat"
   ]
  },
  {
   "cell_type": "code",
   "execution_count": 14,
   "metadata": {},
   "outputs": [],
   "source": [
    "combined_chain = {\"concept\": poet_chain} | explain_chain\n",
    "\n"
   ]
  },
  {
   "cell_type": "code",
   "execution_count": 15,
   "metadata": {},
   "outputs": [
    {
     "name": "stdout",
     "output_type": "stream",
     "text": [
      "어둠 속을 비추는 빛,\n",
      "파이썬의 매력은 끝없이 빛나네.\n",
      "코드 한 줄 한 줄 읽어가며,\n",
      "문제를 해결하는 즐거움을 안겨주네.\n",
      "\n",
      "들여쓰기와 콜론의 조화,\n",
      "함수와 클래스가 춤을 추네.\n",
      "모듈과 패키지가 미로처럼,\n",
      "새로운 세계로 인도해주네.\n",
      "\n",
      "파이썬이여, 너의 아름다움에,\n",
      "매료되어 빠져든다.\n",
      "코드의 세계에 빠져 살며,\n",
      "창조의 즐거움을 만끽하리.이 시는 파이썬 프로그래밍 언어에 대한 사랑과 열정을 담은 시입니다. 시인은 파이썬이라는 프로그래밍 언어의 매력을 노래하며, 코드를 작성하고 실행하는 과정에서 느끼는 즐거움을 표현하고 있습니다.\n",
      "\n",
      "첫 부분에서는 \"어둠 속을 비추는 빛\"으로 파이썬이 어둠 속을 비추듯이 문제를 해결하는 데 도움을 주는 것으로 묘사되었습니다. 또한 \"코드 한 줄 한 줄 읽어가며, 문제를 해결하는 즐거움을 안겨주네\"라는 구절은 코드를 작성하고 실행하면서 느끼는 즐거움을 표현하고 있습니다.\n",
      "\n",
      "두 번째 부분에서는 들여쓰기와 콜론, 함수와 클래스, 모듈과 패키지 등 파이썬의 특징들이 어떻게 조화롭게 연결되어 있는지를 묘사하고 있습니다. 이러한 파이썬의 특징들이 새로운 세계로 인도해주는 것처럼 느껴진다는 것을 시인은 표현하고 있습니다.\n",
      "\n",
      "마지막 부분에서는 시인은 파이썬의 아름다움에 매료되어 즐거움을 느끼며 창조적인 활동을 즐기고 있다는 것을 표현하고 있습니다. 파이썬이라는 프로그래밍 언어를 통해 창조의 즐거움을 만끽하고 있다는 메시지가 담겨져 있습니다."
     ]
    },
    {
     "data": {
      "text/plain": [
       "AIMessageChunk(content='이 시는 파이썬 프로그래밍 언어에 대한 사랑과 열정을 담은 시입니다. 시인은 파이썬이라는 프로그래밍 언어의 매력을 노래하며, 코드를 작성하고 실행하는 과정에서 느끼는 즐거움을 표현하고 있습니다.\\n\\n첫 부분에서는 \"어둠 속을 비추는 빛\"으로 파이썬이 어둠 속을 비추듯이 문제를 해결하는 데 도움을 주는 것으로 묘사되었습니다. 또한 \"코드 한 줄 한 줄 읽어가며, 문제를 해결하는 즐거움을 안겨주네\"라는 구절은 코드를 작성하고 실행하면서 느끼는 즐거움을 표현하고 있습니다.\\n\\n두 번째 부분에서는 들여쓰기와 콜론, 함수와 클래스, 모듈과 패키지 등 파이썬의 특징들이 어떻게 조화롭게 연결되어 있는지를 묘사하고 있습니다. 이러한 파이썬의 특징들이 새로운 세계로 인도해주는 것처럼 느껴진다는 것을 시인은 표현하고 있습니다.\\n\\n마지막 부분에서는 시인은 파이썬의 아름다움에 매료되어 즐거움을 느끼며 창조적인 활동을 즐기고 있다는 것을 표현하고 있습니다. 파이썬이라는 프로그래밍 언어를 통해 창조의 즐거움을 만끽하고 있다는 메시지가 담겨져 있습니다.')"
      ]
     },
     "execution_count": 15,
     "metadata": {},
     "output_type": "execute_result"
    }
   ],
   "source": [
    "combined_chain.invoke({\"language\" : \"python\"})"
   ]
  },
  {
   "cell_type": "code",
   "execution_count": null,
   "metadata": {},
   "outputs": [],
   "source": []
  }
 ],
 "metadata": {
  "kernelspec": {
   "display_name": ".venv",
   "language": "python",
   "name": "python3"
  },
  "language_info": {
   "codemirror_mode": {
    "name": "ipython",
    "version": 3
   },
   "file_extension": ".py",
   "mimetype": "text/x-python",
   "name": "python",
   "nbconvert_exporter": "python",
   "pygments_lexer": "ipython3",
   "version": "3.10.12"
  }
 },
 "nbformat": 4,
 "nbformat_minor": 2
}
